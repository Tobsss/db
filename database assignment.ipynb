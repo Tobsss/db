{
 "cells": [
  {
   "cell_type": "code",
   "execution_count": 2,
   "id": "524decf1",
   "metadata": {},
   "outputs": [],
   "source": [
    "import psycopg2\n",
    "import pandas"
   ]
  },
  {
   "cell_type": "code",
   "execution_count": 6,
   "id": "dc1bc322",
   "metadata": {},
   "outputs": [],
   "source": [
    "connection = psycopg2.connect(host='localhost', user='postgres', database='ass_db', password='TOBIloba12.', port=5432)"
   ]
  },
  {
   "cell_type": "code",
   "execution_count": 41,
   "id": "7dfd5993",
   "metadata": {},
   "outputs": [
    {
     "ename": "UndefinedColumn",
     "evalue": "column \"country\" of relation \"data\" does not exist\nLINE 1: insert into data(Country,y2009,y2010,y2011,y2012,y2013,y2014...\n                         ^\n",
     "output_type": "error",
     "traceback": [
      "\u001b[1;31m---------------------------------------------------------------------------\u001b[0m",
      "\u001b[1;31mUndefinedColumn\u001b[0m                           Traceback (most recent call last)",
      "\u001b[1;32m<ipython-input-41-0dc5268331a4>\u001b[0m in \u001b[0;36m<module>\u001b[1;34m\u001b[0m\n\u001b[0;32m     43\u001b[0m         \u001b[1;32mpass\u001b[0m\u001b[1;33m\u001b[0m\u001b[1;33m\u001b[0m\u001b[0m\n\u001b[0;32m     44\u001b[0m \u001b[1;33m\u001b[0m\u001b[0m\n\u001b[1;32m---> 45\u001b[1;33m \u001b[0minput_values\u001b[0m\u001b[1;33m(\u001b[0m\u001b[0mdata\u001b[0m\u001b[1;33m)\u001b[0m\u001b[1;33m\u001b[0m\u001b[1;33m\u001b[0m\u001b[0m\n\u001b[0m\u001b[0;32m     46\u001b[0m \u001b[1;33m\u001b[0m\u001b[0m\n\u001b[0;32m     47\u001b[0m \u001b[0mcur\u001b[0m\u001b[1;33m.\u001b[0m\u001b[0mclose\u001b[0m\u001b[1;33m(\u001b[0m\u001b[1;33m)\u001b[0m\u001b[1;33m\u001b[0m\u001b[1;33m\u001b[0m\u001b[0m\n",
      "\u001b[1;32m<ipython-input-41-0dc5268331a4>\u001b[0m in \u001b[0;36minput_values\u001b[1;34m(data)\u001b[0m\n\u001b[0;32m     36\u001b[0m             '''\n\u001b[0;32m     37\u001b[0m \u001b[1;33m\u001b[0m\u001b[0m\n\u001b[1;32m---> 38\u001b[1;33m             \u001b[0mcur\u001b[0m\u001b[1;33m.\u001b[0m\u001b[0mexecute\u001b[0m\u001b[1;33m(\u001b[0m\u001b[0minsert_table\u001b[0m\u001b[1;33m)\u001b[0m\u001b[1;33m\u001b[0m\u001b[1;33m\u001b[0m\u001b[0m\n\u001b[0m\u001b[0;32m     39\u001b[0m \u001b[1;33m\u001b[0m\u001b[0m\n\u001b[0;32m     40\u001b[0m         \u001b[0mconn\u001b[0m\u001b[1;33m.\u001b[0m\u001b[0mcommit\u001b[0m\u001b[1;33m(\u001b[0m\u001b[1;33m)\u001b[0m\u001b[1;33m\u001b[0m\u001b[1;33m\u001b[0m\u001b[0m\n",
      "\u001b[1;31mUndefinedColumn\u001b[0m: column \"country\" of relation \"data\" does not exist\nLINE 1: insert into data(Country,y2009,y2010,y2011,y2012,y2013,y2014...\n                         ^\n"
     ]
    }
   ],
   "source": [
    "connection = psycopg2.connect(host='localhost', user='postgres', database='ass_db', password='TOBIloba12.', port=5432)\n",
    "try:\n",
    "    create_table =  \"\"\"                  \n",
    "             CREATE TABLE data_cen_414(\n",
    "                 ID INT PRIMARY KEY NOT NULL,\n",
    "                 Country TEXT NOT NULL,\n",
    "                 y2009 INT NOT NULL,\n",
    "                 y2010 INT NOT NULL,\n",
    "                 y2011 INT NOT NULL,\n",
    "                 y2012 INT NOT NULL,\n",
    "                 y2013 INT NOT NULL,\n",
    "                 y2014 INT NOT NULL,\n",
    "                 y2015 INT NOT NULL,\n",
    "                 y2016 INT NOT NULL,\n",
    "                 y2017 INT NOT NULL,\n",
    "                 y2018 INT NOT NULL,\n",
    "                 y2019 INT NOT NULL     \n",
    "             )\n",
    "         \"\"\" \n",
    "    cur = connection.cursor()\n",
    "    cur.execute(create_table)\n",
    "    connection.commit()\n",
    "except psycopg2.errors.DuplicateTable:\n",
    "    pass\n",
    "connection.rollback()\n",
    "\n",
    "data = pandas.read_csv('C:\\cendata.csv')\n",
    "        \n",
    "def input_values(data):\n",
    "    # add values to table\n",
    "    try:\n",
    "        for (index, row) in data.iterrows():\n",
    "            insert_table = f'''insert into data(Country,y2009,y2010,y2011,y2012,y2013,y2014,y2015,y2016,y2017,y2018, y2019)\n",
    "            VALUES('{index + 1}', '{row['Country'].replace(\"\", \"\")}', '{row['y2009']}', '{row['y2010']}','{row['y2011']}','{row['y2012']}'\n",
    "            ,'{row['y2013']}','{row['y2014']}','{row['y2015']}','{row['y2016']}','{row['y2017']}','{row['y2018']}','{row['y2019']}')\n",
    "            '''\n",
    "\n",
    "            cur.execute(insert_table)\n",
    "\n",
    "        conn.commit()\n",
    "    except psycopg2.errors.UniqueViolation:\n",
    "        print('data already exist, add new data')\n",
    "        pass\n",
    "\n",
    "input_values(data)    \n",
    "    \n",
    "cur.close()\n",
    "connection.close()"
   ]
  },
  {
   "cell_type": "code",
   "execution_count": 45,
   "id": "35b3c6da",
   "metadata": {},
   "outputs": [],
   "source": [
    "connection = psycopg2.connect(host='localhost', user='postgres', database='ass_db', password='TOBIloba12.', port=5432)\n",
    "try:\n",
    "    create_table =  \"\"\"                  \n",
    "             CREATE TABLE ASS_DATA(\n",
    "                 ID INT PRIMARY KEY NOT NULL,\n",
    "                 Country TEXT NOT NULL,\n",
    "                 y2009 INT NOT NULL,\n",
    "                 y2010 INT NOT NULL,\n",
    "                 y2011 INT NOT NULL,\n",
    "                 y2012 INT NOT NULL,\n",
    "                 y2013 INT NOT NULL,\n",
    "                 y2014 INT NOT NULL,\n",
    "                 y2015 INT NOT NULL,\n",
    "                 y2016 INT NOT NULL,\n",
    "                 y2017 INT NOT NULL,\n",
    "                 y2018 INT NOT NULL,\n",
    "                 y2019 INT NOT NULL     \n",
    "             )\n",
    "         \"\"\" \n",
    "    cur = connection.cursor()\n",
    "    cur.execute(create_table)\n",
    "    connection.commit()\n",
    "except psycopg2.errors.DuplicateTable:\n",
    "    pass\n",
    "connection.rollback()\n",
    "\n",
    "data = pandas.read_csv('C:\\cendata.csv')\n",
    "        \n",
    "def input_values(data):\n",
    "    # add values to table\n",
    "    try:\n",
    "        for (index, row) in data.iterrows():\n",
    "            insert_table = f'''insert into ass_data(id,country,y2009,y2010,y2011,y2012,y2013,y2014,y2015,y2016,y2017,y2018, y2019)\n",
    "            VALUES('{index + 1}', '{row['Country'].replace(\"'\", \"\")}', '{row['y2009']}', '{row['y2010']}','{row['y2011']}','{row['y2012']}'\n",
    "            ,'{row['y2013']}','{row['y2014']}','{row['y2015']}','{row['y2016']}','{row['y2017']}','{row['y2018']}','{row['y2019']}')\n",
    "            '''\n",
    "\n",
    "            cur.execute(insert_table)\n",
    "\n",
    "        connection.commit()\n",
    "    except psycopg2.errors.UniqueViolation:\n",
    "        print('data already exist, add new data')\n",
    "        pass\n",
    "\n",
    "input_values(data)    \n",
    "    \n",
    "cur.close()\n",
    "connection.close()"
   ]
  },
  {
   "cell_type": "code",
   "execution_count": null,
   "id": "9eb0d612",
   "metadata": {},
   "outputs": [],
   "source": []
  }
 ],
 "metadata": {
  "kernelspec": {
   "display_name": "Python 3",
   "language": "python",
   "name": "python3"
  },
  "language_info": {
   "codemirror_mode": {
    "name": "ipython",
    "version": 3
   },
   "file_extension": ".py",
   "mimetype": "text/x-python",
   "name": "python",
   "nbconvert_exporter": "python",
   "pygments_lexer": "ipython3",
   "version": "3.8.8"
  }
 },
 "nbformat": 4,
 "nbformat_minor": 5
}
